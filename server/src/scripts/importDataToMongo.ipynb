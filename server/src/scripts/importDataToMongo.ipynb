{
 "cells": [
  {
   "cell_type": "code",
   "execution_count": 1,
   "metadata": {},
   "outputs": [],
   "source": [
    "import pandas as pd\n",
    "import os\n",
    "import json\n",
    "from pymongo import MongoClient\n",
    "DATA = '../../../../data/'\n"
   ]
  },
  {
   "cell_type": "code",
   "execution_count": 2,
   "metadata": {},
   "outputs": [],
   "source": [
    "def decorateRow(row):\n",
    "    #['HEX_600', 'HEX_weighted_average_distance', 'HEX_weighted_mean_home_distance', 'HEX_weighted_max_home_distance', 'HEX_weighted_median_home_distance', 'HEX_weighted_radius_of_gyration', 'HEX_weighted_num_reporting_2015', 'HEX_weighted_HEX_coverage', 'HEX_weighted_subject_coverage', 'HEX_weighted_subject_hhi', 'HEX_total_reporting', 'HEX_total_user']\n",
    "    record = row[1:].to_frame().transpose()\n",
    "    return record"
   ]
  },
  {
   "cell_type": "code",
   "execution_count": 3,
   "metadata": {},
   "outputs": [],
   "source": [
    "#Connect to client\n",
    "client = MongoClient('localhost', 27017)\n",
    "db = client['hexData']\n",
    "hexagon_coll = db['hexagon']\n",
    "# Drop it if it exsits.\n",
    "hexagon_coll.drop() "
   ]
  },
  {
   "cell_type": "code",
   "execution_count": 4,
   "metadata": {},
   "outputs": [],
   "source": [
    "# all subjects\n",
    "#Initialize collection\n",
    "data_all_subjects = pd.read_csv(DATA + \"hex_variables_all/poverty_added_01_hex_variables_non_gov_regardless_of_reporting_frequency_20210209.csv\", sep='\\t', header=0, index_col = 0)\n",
    "#Adding object for each hexagon\n",
    "#Object has 2 values: hexagon number and array of objects for data from each user type and frequency on hexagon\n",
    "for index, row in data_all_subjects.iterrows():\n",
    "    hexagon_coll.insert_one({\n",
    "        'HEX_600': row.HEX_600,\n",
    "        'results': []\n",
    "    })\n",
    "#Populating with data\n",
    "all_subject_dir = DATA + \"hex_variables_all/\"\n",
    "for filename in os.listdir(all_subject_dir):\n",
    "    if filename.endswith(\".csv\"):\n",
    "        data_all_subjects = pd.read_csv(os.path.join(all_subject_dir, filename), sep='\\t', header=0, index_col=0)\n",
    "        data_all_subjects['subject'] = \"all\"\n",
    "        for index, row in data_all_subjects.iterrows():\n",
    "            # Append new object from file to existing hexagon's array\n",
    "            hexagon_coll.update_one({\n",
    "                'HEX_600': row.HEX_600,\n",
    "            },\n",
    "            {\n",
    "                '$push': \n",
    "                {\n",
    "                    'results': json.loads(decorateRow(row).to_json(orient='records'))[0]\n",
    "                }\n",
    "            })"
   ]
  },
  {
   "cell_type": "code",
   "execution_count": 5,
   "metadata": {},
   "outputs": [
    {
     "name": "stderr",
     "output_type": "stream",
     "text": [
      "<ipython-input-5-73716f42e040>:33: FutureWarning: The default value of regex will change from True to False in a future version.\n",
      "  data.columns = data.columns.str.replace(r'_x$', '')\n"
     ]
    }
   ],
   "source": [
    "# by subjects\n",
    "subject_dir = DATA + \"hex_variables_by_subjects_for_viz_system_20220623/\"\n",
    "for subject in os.listdir(subject_dir):\n",
    "    if subject!=\".DS_Store\":\n",
    "        directory = subject_dir + subject + \"/\"\n",
    "        for filename in os.listdir(directory):\n",
    "            if filename.endswith(\".csv\"):\n",
    "                frequency = \"all\"\n",
    "                if filename.startswith(\"01\"):\n",
    "                    user_type = \"non_gov\"\n",
    "                elif filename.startswith(\"02\"):\n",
    "                    user_type = \"non_gov_unsure\"\n",
    "                elif filename.startswith(\"03\"):\n",
    "                    user_type = \"all\"\n",
    "                elif filename.startswith(\"04\"):\n",
    "                    user_type = \"non_gov\"\n",
    "                    frequency = \"heavy\"\n",
    "                elif filename.startswith(\"05\"):\n",
    "                    user_type = \"non_gov_unsure\"\n",
    "                    frequency = \"heavy\"\n",
    "                elif filename.startswith(\"06\"):\n",
    "                    user_type = \"all\"\n",
    "                    frequency = \"heavy\"\n",
    "                \n",
    "                data_per_subject = pd.read_csv(os.path.join(directory, filename), header=0, index_col = 0)\n",
    "                data_per_subject.rename(columns={\"HEX\":\"HEX_600\",\"HEX_total_number_of_reports\":\"HEX_total_reporting\"}, inplace=True)\n",
    "\n",
    "                data_per_subject['subject'] = subject\n",
    "                data_per_subject['user_type'] = user_type\n",
    "                data_per_subject['frequency'] = frequency\n",
    "                data = data_per_subject.merge(data_all_subjects, on = 'HEX_600')\n",
    "                data = data.loc[:, ~data.columns.str.contains('_y$')]\n",
    "                data.columns = data.columns.str.replace(r'_x$', '')\n",
    "                for index, row in data.iterrows():\n",
    "                    # Append new object from file to existing hexagon's array\n",
    "                    hexagon_coll.update_one({\n",
    "                        'HEX_600': row.HEX_600,\n",
    "                    },\n",
    "                    {\n",
    "                        '$push': \n",
    "                        {\n",
    "                            'results': json.loads(decorateRow(row).to_json(orient='records'))[0]\n",
    "                        }\n",
    "                    })\n",
    "                "
   ]
  },
  {
   "cell_type": "code",
   "execution_count": null,
   "metadata": {},
   "outputs": [],
   "source": [
    "# mongodump --db=hexData"
   ]
  }
 ],
 "metadata": {
  "kernelspec": {
   "display_name": "Python 3.8.3 ('base')",
   "language": "python",
   "name": "python3"
  },
  "language_info": {
   "codemirror_mode": {
    "name": "ipython",
    "version": 3
   },
   "file_extension": ".py",
   "mimetype": "text/x-python",
   "name": "python",
   "nbconvert_exporter": "python",
   "pygments_lexer": "ipython3",
   "version": "3.8.3"
  },
  "orig_nbformat": 4,
  "vscode": {
   "interpreter": {
    "hash": "40d3a090f54c6569ab1632332b64b2c03c39dcf918b08424e98f38b5ae0af88f"
   }
  }
 },
 "nbformat": 4,
 "nbformat_minor": 2
}
